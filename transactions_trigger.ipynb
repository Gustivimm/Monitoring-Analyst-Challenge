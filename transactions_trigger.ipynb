{
  "nbformat": 4,
  "nbformat_minor": 0,
  "metadata": {
    "colab": {
      "provenance": []
    },
    "kernelspec": {
      "name": "python3",
      "display_name": "Python 3"
    },
    "language_info": {
      "name": "python"
    }
  },
  "cells": [
    {
      "cell_type": "markdown",
      "source": [
        "# Importing Data"
      ],
      "metadata": {
        "id": "WbYqiy7NjuVg"
      }
    },
    {
      "cell_type": "markdown",
      "source": [
        "## Importing Libraries"
      ],
      "metadata": {
        "id": "WeWiybvtj4Qw"
      }
    },
    {
      "cell_type": "code",
      "source": [
        "!pip install flask flask-ngrok\n",
        "!pip install pyngrok"
      ],
      "metadata": {
        "id": "Wdo1ENm6lcQd"
      },
      "execution_count": null,
      "outputs": []
    },
    {
      "cell_type": "code",
      "execution_count": null,
      "metadata": {
        "id": "F0uby7gqdKBY"
      },
      "outputs": [],
      "source": [
        "import pandas as pd\n",
        "import matplotlib.pyplot as plt\n",
        "import seaborn as sns\n",
        "from sklearn.ensemble import IsolationForest\n",
        "from datetime import datetime\n",
        "from flask import Flask, request, jsonify, send_file\n",
        "from collections import defaultdict\n",
        "import requests\n",
        "import io\n",
        "from flask_ngrok import run_with_ngrok\n",
        "import pyngrok.ngrok as ngrok"
      ]
    },
    {
      "cell_type": "markdown",
      "source": [
        "## Setting URLs and creating DataFrames"
      ],
      "metadata": {
        "id": "QiBWDiD_kBY1"
      }
    },
    {
      "cell_type": "code",
      "source": [
        "url_1 = \"https://raw.githubusercontent.com/thais-menezes/monitoring/main/transactions_1.csv\"\n",
        "url_2 = \"https://raw.githubusercontent.com/thais-menezes/monitoring/main/transactions_2.csv\""
      ],
      "metadata": {
        "id": "2JudhBSMjtH-"
      },
      "execution_count": null,
      "outputs": []
    },
    {
      "cell_type": "code",
      "source": [
        "df_1 = pd.read_csv(url_1)\n",
        "df_2 = pd.read_csv(url_2)"
      ],
      "metadata": {
        "id": "PDu-WszIkH7G"
      },
      "execution_count": null,
      "outputs": []
    },
    {
      "cell_type": "code",
      "source": [
        "df_1.head()"
      ],
      "metadata": {
        "colab": {
          "base_uri": "https://localhost:8080/",
          "height": 206
        },
        "id": "eoHlL6ATkNmD",
        "outputId": "dc28b730-8fad-4fc1-c651-9c1bb580907d"
      },
      "execution_count": null,
      "outputs": [
        {
          "output_type": "execute_result",
          "data": {
            "text/plain": [
              "     time    status  f0_\n",
              "0  00h 00  approved    9\n",
              "1  00h 00    denied    6\n",
              "2  00h 00  refunded    1\n",
              "3  00h 01    denied    8\n",
              "4  00h 01  approved   13"
            ],
            "text/html": [
              "\n",
              "  <div id=\"df-87e73e11-2625-4b12-bdae-07acee9e478d\" class=\"colab-df-container\">\n",
              "    <div>\n",
              "<style scoped>\n",
              "    .dataframe tbody tr th:only-of-type {\n",
              "        vertical-align: middle;\n",
              "    }\n",
              "\n",
              "    .dataframe tbody tr th {\n",
              "        vertical-align: top;\n",
              "    }\n",
              "\n",
              "    .dataframe thead th {\n",
              "        text-align: right;\n",
              "    }\n",
              "</style>\n",
              "<table border=\"1\" class=\"dataframe\">\n",
              "  <thead>\n",
              "    <tr style=\"text-align: right;\">\n",
              "      <th></th>\n",
              "      <th>time</th>\n",
              "      <th>status</th>\n",
              "      <th>f0_</th>\n",
              "    </tr>\n",
              "  </thead>\n",
              "  <tbody>\n",
              "    <tr>\n",
              "      <th>0</th>\n",
              "      <td>00h 00</td>\n",
              "      <td>approved</td>\n",
              "      <td>9</td>\n",
              "    </tr>\n",
              "    <tr>\n",
              "      <th>1</th>\n",
              "      <td>00h 00</td>\n",
              "      <td>denied</td>\n",
              "      <td>6</td>\n",
              "    </tr>\n",
              "    <tr>\n",
              "      <th>2</th>\n",
              "      <td>00h 00</td>\n",
              "      <td>refunded</td>\n",
              "      <td>1</td>\n",
              "    </tr>\n",
              "    <tr>\n",
              "      <th>3</th>\n",
              "      <td>00h 01</td>\n",
              "      <td>denied</td>\n",
              "      <td>8</td>\n",
              "    </tr>\n",
              "    <tr>\n",
              "      <th>4</th>\n",
              "      <td>00h 01</td>\n",
              "      <td>approved</td>\n",
              "      <td>13</td>\n",
              "    </tr>\n",
              "  </tbody>\n",
              "</table>\n",
              "</div>\n",
              "    <div class=\"colab-df-buttons\">\n",
              "\n",
              "  <div class=\"colab-df-container\">\n",
              "    <button class=\"colab-df-convert\" onclick=\"convertToInteractive('df-87e73e11-2625-4b12-bdae-07acee9e478d')\"\n",
              "            title=\"Convert this dataframe to an interactive table.\"\n",
              "            style=\"display:none;\">\n",
              "\n",
              "  <svg xmlns=\"http://www.w3.org/2000/svg\" height=\"24px\" viewBox=\"0 -960 960 960\">\n",
              "    <path d=\"M120-120v-720h720v720H120Zm60-500h600v-160H180v160Zm220 220h160v-160H400v160Zm0 220h160v-160H400v160ZM180-400h160v-160H180v160Zm440 0h160v-160H620v160ZM180-180h160v-160H180v160Zm440 0h160v-160H620v160Z\"/>\n",
              "  </svg>\n",
              "    </button>\n",
              "\n",
              "  <style>\n",
              "    .colab-df-container {\n",
              "      display:flex;\n",
              "      gap: 12px;\n",
              "    }\n",
              "\n",
              "    .colab-df-convert {\n",
              "      background-color: #E8F0FE;\n",
              "      border: none;\n",
              "      border-radius: 50%;\n",
              "      cursor: pointer;\n",
              "      display: none;\n",
              "      fill: #1967D2;\n",
              "      height: 32px;\n",
              "      padding: 0 0 0 0;\n",
              "      width: 32px;\n",
              "    }\n",
              "\n",
              "    .colab-df-convert:hover {\n",
              "      background-color: #E2EBFA;\n",
              "      box-shadow: 0px 1px 2px rgba(60, 64, 67, 0.3), 0px 1px 3px 1px rgba(60, 64, 67, 0.15);\n",
              "      fill: #174EA6;\n",
              "    }\n",
              "\n",
              "    .colab-df-buttons div {\n",
              "      margin-bottom: 4px;\n",
              "    }\n",
              "\n",
              "    [theme=dark] .colab-df-convert {\n",
              "      background-color: #3B4455;\n",
              "      fill: #D2E3FC;\n",
              "    }\n",
              "\n",
              "    [theme=dark] .colab-df-convert:hover {\n",
              "      background-color: #434B5C;\n",
              "      box-shadow: 0px 1px 3px 1px rgba(0, 0, 0, 0.15);\n",
              "      filter: drop-shadow(0px 1px 2px rgba(0, 0, 0, 0.3));\n",
              "      fill: #FFFFFF;\n",
              "    }\n",
              "  </style>\n",
              "\n",
              "    <script>\n",
              "      const buttonEl =\n",
              "        document.querySelector('#df-87e73e11-2625-4b12-bdae-07acee9e478d button.colab-df-convert');\n",
              "      buttonEl.style.display =\n",
              "        google.colab.kernel.accessAllowed ? 'block' : 'none';\n",
              "\n",
              "      async function convertToInteractive(key) {\n",
              "        const element = document.querySelector('#df-87e73e11-2625-4b12-bdae-07acee9e478d');\n",
              "        const dataTable =\n",
              "          await google.colab.kernel.invokeFunction('convertToInteractive',\n",
              "                                                    [key], {});\n",
              "        if (!dataTable) return;\n",
              "\n",
              "        const docLinkHtml = 'Like what you see? Visit the ' +\n",
              "          '<a target=\"_blank\" href=https://colab.research.google.com/notebooks/data_table.ipynb>data table notebook</a>'\n",
              "          + ' to learn more about interactive tables.';\n",
              "        element.innerHTML = '';\n",
              "        dataTable['output_type'] = 'display_data';\n",
              "        await google.colab.output.renderOutput(dataTable, element);\n",
              "        const docLink = document.createElement('div');\n",
              "        docLink.innerHTML = docLinkHtml;\n",
              "        element.appendChild(docLink);\n",
              "      }\n",
              "    </script>\n",
              "  </div>\n",
              "\n",
              "\n",
              "    <div id=\"df-2cde8f80-fb38-45b9-8624-482af0a25136\">\n",
              "      <button class=\"colab-df-quickchart\" onclick=\"quickchart('df-2cde8f80-fb38-45b9-8624-482af0a25136')\"\n",
              "                title=\"Suggest charts\"\n",
              "                style=\"display:none;\">\n",
              "\n",
              "<svg xmlns=\"http://www.w3.org/2000/svg\" height=\"24px\"viewBox=\"0 0 24 24\"\n",
              "     width=\"24px\">\n",
              "    <g>\n",
              "        <path d=\"M19 3H5c-1.1 0-2 .9-2 2v14c0 1.1.9 2 2 2h14c1.1 0 2-.9 2-2V5c0-1.1-.9-2-2-2zM9 17H7v-7h2v7zm4 0h-2V7h2v10zm4 0h-2v-4h2v4z\"/>\n",
              "    </g>\n",
              "</svg>\n",
              "      </button>\n",
              "\n",
              "<style>\n",
              "  .colab-df-quickchart {\n",
              "      --bg-color: #E8F0FE;\n",
              "      --fill-color: #1967D2;\n",
              "      --hover-bg-color: #E2EBFA;\n",
              "      --hover-fill-color: #174EA6;\n",
              "      --disabled-fill-color: #AAA;\n",
              "      --disabled-bg-color: #DDD;\n",
              "  }\n",
              "\n",
              "  [theme=dark] .colab-df-quickchart {\n",
              "      --bg-color: #3B4455;\n",
              "      --fill-color: #D2E3FC;\n",
              "      --hover-bg-color: #434B5C;\n",
              "      --hover-fill-color: #FFFFFF;\n",
              "      --disabled-bg-color: #3B4455;\n",
              "      --disabled-fill-color: #666;\n",
              "  }\n",
              "\n",
              "  .colab-df-quickchart {\n",
              "    background-color: var(--bg-color);\n",
              "    border: none;\n",
              "    border-radius: 50%;\n",
              "    cursor: pointer;\n",
              "    display: none;\n",
              "    fill: var(--fill-color);\n",
              "    height: 32px;\n",
              "    padding: 0;\n",
              "    width: 32px;\n",
              "  }\n",
              "\n",
              "  .colab-df-quickchart:hover {\n",
              "    background-color: var(--hover-bg-color);\n",
              "    box-shadow: 0 1px 2px rgba(60, 64, 67, 0.3), 0 1px 3px 1px rgba(60, 64, 67, 0.15);\n",
              "    fill: var(--button-hover-fill-color);\n",
              "  }\n",
              "\n",
              "  .colab-df-quickchart-complete:disabled,\n",
              "  .colab-df-quickchart-complete:disabled:hover {\n",
              "    background-color: var(--disabled-bg-color);\n",
              "    fill: var(--disabled-fill-color);\n",
              "    box-shadow: none;\n",
              "  }\n",
              "\n",
              "  .colab-df-spinner {\n",
              "    border: 2px solid var(--fill-color);\n",
              "    border-color: transparent;\n",
              "    border-bottom-color: var(--fill-color);\n",
              "    animation:\n",
              "      spin 1s steps(1) infinite;\n",
              "  }\n",
              "\n",
              "  @keyframes spin {\n",
              "    0% {\n",
              "      border-color: transparent;\n",
              "      border-bottom-color: var(--fill-color);\n",
              "      border-left-color: var(--fill-color);\n",
              "    }\n",
              "    20% {\n",
              "      border-color: transparent;\n",
              "      border-left-color: var(--fill-color);\n",
              "      border-top-color: var(--fill-color);\n",
              "    }\n",
              "    30% {\n",
              "      border-color: transparent;\n",
              "      border-left-color: var(--fill-color);\n",
              "      border-top-color: var(--fill-color);\n",
              "      border-right-color: var(--fill-color);\n",
              "    }\n",
              "    40% {\n",
              "      border-color: transparent;\n",
              "      border-right-color: var(--fill-color);\n",
              "      border-top-color: var(--fill-color);\n",
              "    }\n",
              "    60% {\n",
              "      border-color: transparent;\n",
              "      border-right-color: var(--fill-color);\n",
              "    }\n",
              "    80% {\n",
              "      border-color: transparent;\n",
              "      border-right-color: var(--fill-color);\n",
              "      border-bottom-color: var(--fill-color);\n",
              "    }\n",
              "    90% {\n",
              "      border-color: transparent;\n",
              "      border-bottom-color: var(--fill-color);\n",
              "    }\n",
              "  }\n",
              "</style>\n",
              "\n",
              "      <script>\n",
              "        async function quickchart(key) {\n",
              "          const quickchartButtonEl =\n",
              "            document.querySelector('#' + key + ' button');\n",
              "          quickchartButtonEl.disabled = true;  // To prevent multiple clicks.\n",
              "          quickchartButtonEl.classList.add('colab-df-spinner');\n",
              "          try {\n",
              "            const charts = await google.colab.kernel.invokeFunction(\n",
              "                'suggestCharts', [key], {});\n",
              "          } catch (error) {\n",
              "            console.error('Error during call to suggestCharts:', error);\n",
              "          }\n",
              "          quickchartButtonEl.classList.remove('colab-df-spinner');\n",
              "          quickchartButtonEl.classList.add('colab-df-quickchart-complete');\n",
              "        }\n",
              "        (() => {\n",
              "          let quickchartButtonEl =\n",
              "            document.querySelector('#df-2cde8f80-fb38-45b9-8624-482af0a25136 button');\n",
              "          quickchartButtonEl.style.display =\n",
              "            google.colab.kernel.accessAllowed ? 'block' : 'none';\n",
              "        })();\n",
              "      </script>\n",
              "    </div>\n",
              "\n",
              "    </div>\n",
              "  </div>\n"
            ],
            "application/vnd.google.colaboratory.intrinsic+json": {
              "type": "dataframe",
              "variable_name": "df_1",
              "summary": "{\n  \"name\": \"df_1\",\n  \"rows\": 4234,\n  \"fields\": [\n    {\n      \"column\": \"time\",\n      \"properties\": {\n        \"dtype\": \"category\",\n        \"num_unique_values\": 1322,\n        \"samples\": [\n          \"13h 27\",\n          \"09h 19\",\n          \"05h 20\"\n        ],\n        \"semantic_type\": \"\",\n        \"description\": \"\"\n      }\n    },\n    {\n      \"column\": \"status\",\n      \"properties\": {\n        \"dtype\": \"category\",\n        \"num_unique_values\": 7,\n        \"samples\": [\n          \"approved\",\n          \"denied\",\n          \"failed\"\n        ],\n        \"semantic_type\": \"\",\n        \"description\": \"\"\n      }\n    },\n    {\n      \"column\": \"f0_\",\n      \"properties\": {\n        \"dtype\": \"number\",\n        \"std\": 107,\n        \"min\": 1,\n        \"max\": 782,\n        \"num_unique_values\": 407,\n        \"samples\": [\n          110,\n          367,\n          271\n        ],\n        \"semantic_type\": \"\",\n        \"description\": \"\"\n      }\n    }\n  ]\n}"
            }
          },
          "metadata": {},
          "execution_count": 4
        }
      ]
    },
    {
      "cell_type": "code",
      "source": [
        "df_2.head()"
      ],
      "metadata": {
        "colab": {
          "base_uri": "https://localhost:8080/",
          "height": 206
        },
        "id": "490HW6sgkZx9",
        "outputId": "dbe09c8e-844f-4bef-e67d-3c72c3ed05cc"
      },
      "execution_count": null,
      "outputs": [
        {
          "output_type": "execute_result",
          "data": {
            "text/plain": [
              "     time            status  count\n",
              "0  00h 00          reversed      7\n",
              "1  00h 00          approved      9\n",
              "2  00h 00        processing     12\n",
              "3  00h 00            denied      3\n",
              "4  00h 00  backend_reversed      2"
            ],
            "text/html": [
              "\n",
              "  <div id=\"df-02352fe9-255a-49da-9c5c-62e1a8c08ab1\" class=\"colab-df-container\">\n",
              "    <div>\n",
              "<style scoped>\n",
              "    .dataframe tbody tr th:only-of-type {\n",
              "        vertical-align: middle;\n",
              "    }\n",
              "\n",
              "    .dataframe tbody tr th {\n",
              "        vertical-align: top;\n",
              "    }\n",
              "\n",
              "    .dataframe thead th {\n",
              "        text-align: right;\n",
              "    }\n",
              "</style>\n",
              "<table border=\"1\" class=\"dataframe\">\n",
              "  <thead>\n",
              "    <tr style=\"text-align: right;\">\n",
              "      <th></th>\n",
              "      <th>time</th>\n",
              "      <th>status</th>\n",
              "      <th>count</th>\n",
              "    </tr>\n",
              "  </thead>\n",
              "  <tbody>\n",
              "    <tr>\n",
              "      <th>0</th>\n",
              "      <td>00h 00</td>\n",
              "      <td>reversed</td>\n",
              "      <td>7</td>\n",
              "    </tr>\n",
              "    <tr>\n",
              "      <th>1</th>\n",
              "      <td>00h 00</td>\n",
              "      <td>approved</td>\n",
              "      <td>9</td>\n",
              "    </tr>\n",
              "    <tr>\n",
              "      <th>2</th>\n",
              "      <td>00h 00</td>\n",
              "      <td>processing</td>\n",
              "      <td>12</td>\n",
              "    </tr>\n",
              "    <tr>\n",
              "      <th>3</th>\n",
              "      <td>00h 00</td>\n",
              "      <td>denied</td>\n",
              "      <td>3</td>\n",
              "    </tr>\n",
              "    <tr>\n",
              "      <th>4</th>\n",
              "      <td>00h 00</td>\n",
              "      <td>backend_reversed</td>\n",
              "      <td>2</td>\n",
              "    </tr>\n",
              "  </tbody>\n",
              "</table>\n",
              "</div>\n",
              "    <div class=\"colab-df-buttons\">\n",
              "\n",
              "  <div class=\"colab-df-container\">\n",
              "    <button class=\"colab-df-convert\" onclick=\"convertToInteractive('df-02352fe9-255a-49da-9c5c-62e1a8c08ab1')\"\n",
              "            title=\"Convert this dataframe to an interactive table.\"\n",
              "            style=\"display:none;\">\n",
              "\n",
              "  <svg xmlns=\"http://www.w3.org/2000/svg\" height=\"24px\" viewBox=\"0 -960 960 960\">\n",
              "    <path d=\"M120-120v-720h720v720H120Zm60-500h600v-160H180v160Zm220 220h160v-160H400v160Zm0 220h160v-160H400v160ZM180-400h160v-160H180v160Zm440 0h160v-160H620v160ZM180-180h160v-160H180v160Zm440 0h160v-160H620v160Z\"/>\n",
              "  </svg>\n",
              "    </button>\n",
              "\n",
              "  <style>\n",
              "    .colab-df-container {\n",
              "      display:flex;\n",
              "      gap: 12px;\n",
              "    }\n",
              "\n",
              "    .colab-df-convert {\n",
              "      background-color: #E8F0FE;\n",
              "      border: none;\n",
              "      border-radius: 50%;\n",
              "      cursor: pointer;\n",
              "      display: none;\n",
              "      fill: #1967D2;\n",
              "      height: 32px;\n",
              "      padding: 0 0 0 0;\n",
              "      width: 32px;\n",
              "    }\n",
              "\n",
              "    .colab-df-convert:hover {\n",
              "      background-color: #E2EBFA;\n",
              "      box-shadow: 0px 1px 2px rgba(60, 64, 67, 0.3), 0px 1px 3px 1px rgba(60, 64, 67, 0.15);\n",
              "      fill: #174EA6;\n",
              "    }\n",
              "\n",
              "    .colab-df-buttons div {\n",
              "      margin-bottom: 4px;\n",
              "    }\n",
              "\n",
              "    [theme=dark] .colab-df-convert {\n",
              "      background-color: #3B4455;\n",
              "      fill: #D2E3FC;\n",
              "    }\n",
              "\n",
              "    [theme=dark] .colab-df-convert:hover {\n",
              "      background-color: #434B5C;\n",
              "      box-shadow: 0px 1px 3px 1px rgba(0, 0, 0, 0.15);\n",
              "      filter: drop-shadow(0px 1px 2px rgba(0, 0, 0, 0.3));\n",
              "      fill: #FFFFFF;\n",
              "    }\n",
              "  </style>\n",
              "\n",
              "    <script>\n",
              "      const buttonEl =\n",
              "        document.querySelector('#df-02352fe9-255a-49da-9c5c-62e1a8c08ab1 button.colab-df-convert');\n",
              "      buttonEl.style.display =\n",
              "        google.colab.kernel.accessAllowed ? 'block' : 'none';\n",
              "\n",
              "      async function convertToInteractive(key) {\n",
              "        const element = document.querySelector('#df-02352fe9-255a-49da-9c5c-62e1a8c08ab1');\n",
              "        const dataTable =\n",
              "          await google.colab.kernel.invokeFunction('convertToInteractive',\n",
              "                                                    [key], {});\n",
              "        if (!dataTable) return;\n",
              "\n",
              "        const docLinkHtml = 'Like what you see? Visit the ' +\n",
              "          '<a target=\"_blank\" href=https://colab.research.google.com/notebooks/data_table.ipynb>data table notebook</a>'\n",
              "          + ' to learn more about interactive tables.';\n",
              "        element.innerHTML = '';\n",
              "        dataTable['output_type'] = 'display_data';\n",
              "        await google.colab.output.renderOutput(dataTable, element);\n",
              "        const docLink = document.createElement('div');\n",
              "        docLink.innerHTML = docLinkHtml;\n",
              "        element.appendChild(docLink);\n",
              "      }\n",
              "    </script>\n",
              "  </div>\n",
              "\n",
              "\n",
              "    <div id=\"df-eb972ed7-372a-40f0-9e4e-4d28e6fc45f6\">\n",
              "      <button class=\"colab-df-quickchart\" onclick=\"quickchart('df-eb972ed7-372a-40f0-9e4e-4d28e6fc45f6')\"\n",
              "                title=\"Suggest charts\"\n",
              "                style=\"display:none;\">\n",
              "\n",
              "<svg xmlns=\"http://www.w3.org/2000/svg\" height=\"24px\"viewBox=\"0 0 24 24\"\n",
              "     width=\"24px\">\n",
              "    <g>\n",
              "        <path d=\"M19 3H5c-1.1 0-2 .9-2 2v14c0 1.1.9 2 2 2h14c1.1 0 2-.9 2-2V5c0-1.1-.9-2-2-2zM9 17H7v-7h2v7zm4 0h-2V7h2v10zm4 0h-2v-4h2v4z\"/>\n",
              "    </g>\n",
              "</svg>\n",
              "      </button>\n",
              "\n",
              "<style>\n",
              "  .colab-df-quickchart {\n",
              "      --bg-color: #E8F0FE;\n",
              "      --fill-color: #1967D2;\n",
              "      --hover-bg-color: #E2EBFA;\n",
              "      --hover-fill-color: #174EA6;\n",
              "      --disabled-fill-color: #AAA;\n",
              "      --disabled-bg-color: #DDD;\n",
              "  }\n",
              "\n",
              "  [theme=dark] .colab-df-quickchart {\n",
              "      --bg-color: #3B4455;\n",
              "      --fill-color: #D2E3FC;\n",
              "      --hover-bg-color: #434B5C;\n",
              "      --hover-fill-color: #FFFFFF;\n",
              "      --disabled-bg-color: #3B4455;\n",
              "      --disabled-fill-color: #666;\n",
              "  }\n",
              "\n",
              "  .colab-df-quickchart {\n",
              "    background-color: var(--bg-color);\n",
              "    border: none;\n",
              "    border-radius: 50%;\n",
              "    cursor: pointer;\n",
              "    display: none;\n",
              "    fill: var(--fill-color);\n",
              "    height: 32px;\n",
              "    padding: 0;\n",
              "    width: 32px;\n",
              "  }\n",
              "\n",
              "  .colab-df-quickchart:hover {\n",
              "    background-color: var(--hover-bg-color);\n",
              "    box-shadow: 0 1px 2px rgba(60, 64, 67, 0.3), 0 1px 3px 1px rgba(60, 64, 67, 0.15);\n",
              "    fill: var(--button-hover-fill-color);\n",
              "  }\n",
              "\n",
              "  .colab-df-quickchart-complete:disabled,\n",
              "  .colab-df-quickchart-complete:disabled:hover {\n",
              "    background-color: var(--disabled-bg-color);\n",
              "    fill: var(--disabled-fill-color);\n",
              "    box-shadow: none;\n",
              "  }\n",
              "\n",
              "  .colab-df-spinner {\n",
              "    border: 2px solid var(--fill-color);\n",
              "    border-color: transparent;\n",
              "    border-bottom-color: var(--fill-color);\n",
              "    animation:\n",
              "      spin 1s steps(1) infinite;\n",
              "  }\n",
              "\n",
              "  @keyframes spin {\n",
              "    0% {\n",
              "      border-color: transparent;\n",
              "      border-bottom-color: var(--fill-color);\n",
              "      border-left-color: var(--fill-color);\n",
              "    }\n",
              "    20% {\n",
              "      border-color: transparent;\n",
              "      border-left-color: var(--fill-color);\n",
              "      border-top-color: var(--fill-color);\n",
              "    }\n",
              "    30% {\n",
              "      border-color: transparent;\n",
              "      border-left-color: var(--fill-color);\n",
              "      border-top-color: var(--fill-color);\n",
              "      border-right-color: var(--fill-color);\n",
              "    }\n",
              "    40% {\n",
              "      border-color: transparent;\n",
              "      border-right-color: var(--fill-color);\n",
              "      border-top-color: var(--fill-color);\n",
              "    }\n",
              "    60% {\n",
              "      border-color: transparent;\n",
              "      border-right-color: var(--fill-color);\n",
              "    }\n",
              "    80% {\n",
              "      border-color: transparent;\n",
              "      border-right-color: var(--fill-color);\n",
              "      border-bottom-color: var(--fill-color);\n",
              "    }\n",
              "    90% {\n",
              "      border-color: transparent;\n",
              "      border-bottom-color: var(--fill-color);\n",
              "    }\n",
              "  }\n",
              "</style>\n",
              "\n",
              "      <script>\n",
              "        async function quickchart(key) {\n",
              "          const quickchartButtonEl =\n",
              "            document.querySelector('#' + key + ' button');\n",
              "          quickchartButtonEl.disabled = true;  // To prevent multiple clicks.\n",
              "          quickchartButtonEl.classList.add('colab-df-spinner');\n",
              "          try {\n",
              "            const charts = await google.colab.kernel.invokeFunction(\n",
              "                'suggestCharts', [key], {});\n",
              "          } catch (error) {\n",
              "            console.error('Error during call to suggestCharts:', error);\n",
              "          }\n",
              "          quickchartButtonEl.classList.remove('colab-df-spinner');\n",
              "          quickchartButtonEl.classList.add('colab-df-quickchart-complete');\n",
              "        }\n",
              "        (() => {\n",
              "          let quickchartButtonEl =\n",
              "            document.querySelector('#df-eb972ed7-372a-40f0-9e4e-4d28e6fc45f6 button');\n",
              "          quickchartButtonEl.style.display =\n",
              "            google.colab.kernel.accessAllowed ? 'block' : 'none';\n",
              "        })();\n",
              "      </script>\n",
              "    </div>\n",
              "\n",
              "    </div>\n",
              "  </div>\n"
            ],
            "application/vnd.google.colaboratory.intrinsic+json": {
              "type": "dataframe",
              "variable_name": "df_2",
              "summary": "{\n  \"name\": \"df_2\",\n  \"rows\": 3944,\n  \"fields\": [\n    {\n      \"column\": \"time\",\n      \"properties\": {\n        \"dtype\": \"category\",\n        \"num_unique_values\": 1319,\n        \"samples\": [\n          \"13h 18\",\n          \"19h 27\",\n          \"12h 11\"\n        ],\n        \"semantic_type\": \"\",\n        \"description\": \"\"\n      }\n    },\n    {\n      \"column\": \"status\",\n      \"properties\": {\n        \"dtype\": \"category\",\n        \"num_unique_values\": 7,\n        \"samples\": [\n          \"reversed\",\n          \"approved\",\n          \"refunded\"\n        ],\n        \"semantic_type\": \"\",\n        \"description\": \"\"\n      }\n    },\n    {\n      \"column\": \"count\",\n      \"properties\": {\n        \"dtype\": \"number\",\n        \"std\": 130,\n        \"min\": 1,\n        \"max\": 560,\n        \"num_unique_values\": 451,\n        \"samples\": [\n          429,\n          55,\n          464\n        ],\n        \"semantic_type\": \"\",\n        \"description\": \"\"\n      }\n    }\n  ]\n}"
            }
          },
          "metadata": {},
          "execution_count": 5
        }
      ]
    },
    {
      "cell_type": "markdown",
      "source": [
        "# Preparing Trigger Alert and ML"
      ],
      "metadata": {
        "id": "xxpIc_bKkeml"
      }
    },
    {
      "cell_type": "markdown",
      "source": [
        "## Preparing Data"
      ],
      "metadata": {
        "id": "tzI-Mhm8ueWV"
      }
    },
    {
      "cell_type": "code",
      "source": [
        "def aggregate_date(df):\n",
        "  # Aggregate data by 'time' and 'status'\n",
        "  df = df.groupby(['time', 'status']).size().unstack(fill_value=0)\n",
        "  # Total by 'time'\n",
        "  df['total'] = df.sum(axis=1)\n",
        "  # Reseting index for visualization\n",
        "  df = df.reset_index()"
      ],
      "metadata": {
        "id": "UAFwsOBYqOfn"
      },
      "execution_count": null,
      "outputs": []
    },
    {
      "cell_type": "code",
      "source": [
        "aggregate_date(df_1)\n",
        "aggregate_date(df_2)"
      ],
      "metadata": {
        "id": "KusoODjczL-h"
      },
      "execution_count": null,
      "outputs": []
    },
    {
      "cell_type": "code",
      "source": [
        "def create_flags(df):\n",
        "  # Creating flags (alerts) with conditions\n",
        "  df['alert_failed'] = df['failed'] > 0.05 * df['total']\n",
        "  df['alert_denied'] = df['denied'] > 10\n",
        "  df['alert_reversed'] = df['reversed'] > 5\n",
        "  # Check where any alert is triggered\n",
        "  df['rule_alert'] = df[['alert_failed', 'alert_denied', 'alert_reversed']].any(axis=1)"
      ],
      "metadata": {
        "id": "nOntRynYseP7"
      },
      "execution_count": null,
      "outputs": []
    },
    {
      "cell_type": "code",
      "source": [
        "create_flags(df_1)\n",
        "create_flags(df_2)"
      ],
      "metadata": {
        "id": "QMgI5nFaw0iB"
      },
      "execution_count": null,
      "outputs": []
    },
    {
      "cell_type": "markdown",
      "source": [
        "## Training Model (ML Isolation Forest)"
      ],
      "metadata": {
        "id": "Z3iG_8A4uqRT"
      }
    },
    {
      "cell_type": "code",
      "source": [
        "def create_isolation_forest(df):\n",
        "  features = df[['failed', 'denied', 'reversed', 'approved']]\n",
        "  # Training Isolation Forest\n",
        "  model = IsolationForest(contamination=0.05, random_state=42)\n",
        "  df['anomaly_score'] = model.fit_predict(features)\n",
        "  # Isolation Forest returns -1 for anomalies\n",
        "  df['model_alert'] = df['anomaly_score'] == -1"
      ],
      "metadata": {
        "id": "9MX-R-XbxIxz"
      },
      "execution_count": null,
      "outputs": []
    },
    {
      "cell_type": "code",
      "source": [
        "create_isolation_forest(df_1)\n",
        "create_isolation_forest(df_2)"
      ],
      "metadata": {
        "id": "Kkzxs4ftyY6t"
      },
      "execution_count": null,
      "outputs": []
    },
    {
      "cell_type": "markdown",
      "source": [
        "## Defining Alert Trigger (Rule-Based + Score-Based)"
      ],
      "metadata": {
        "id": "GunpS4w-vesU"
      }
    },
    {
      "cell_type": "code",
      "source": [
        "def final_alert(df):\n",
        "  # Define final_alert (rule-based + score-based)\n",
        "  df['final_alert'] = df['rule_alert'] | df['model_alert']"
      ],
      "metadata": {
        "id": "XyumHj0_ycJh"
      },
      "execution_count": null,
      "outputs": []
    },
    {
      "cell_type": "code",
      "source": [
        "final_alert(df_1)\n",
        "final_alert(df_2)"
      ],
      "metadata": {
        "id": "iL-7w2jvzPnu"
      },
      "execution_count": null,
      "outputs": []
    },
    {
      "cell_type": "markdown",
      "source": [
        "## Plotting Graphic"
      ],
      "metadata": {
        "id": "JKDdePyjwao9"
      }
    },
    {
      "cell_type": "code",
      "source": [
        "# Plotting Failed Transactions Graphic\n",
        "def plot_failed_transactions(df):\n",
        "    plt.figure(figsize=(15, 6))\n",
        "    sns.lineplot(data=df, x='time', y='failed', label='Failed')\n",
        "    sns.scatterplot(data=df[df['final_alert']], x='time', y='failed', color='red', label='Alerts')\n",
        "    plt.title(\"Failed Transactions\")\n",
        "    plt.xticks(rotation=45)\n",
        "    plt.tight_layout()\n",
        "    plt.show()"
      ],
      "metadata": {
        "id": "autiDrxizgbZ"
      },
      "execution_count": null,
      "outputs": []
    },
    {
      "cell_type": "code",
      "source": [
        "plot_failed_transactions(df_1)"
      ],
      "metadata": {
        "id": "5rvdkKF3zmUn"
      },
      "execution_count": null,
      "outputs": []
    },
    {
      "cell_type": "code",
      "source": [
        "plot_failed_transactions(df_2)"
      ],
      "metadata": {
        "id": "QIo6HT5KzoqR"
      },
      "execution_count": null,
      "outputs": []
    },
    {
      "cell_type": "markdown",
      "source": [
        "# Notification via Teams"
      ],
      "metadata": {
        "id": "_tAmb6mjwfs3"
      }
    },
    {
      "cell_type": "markdown",
      "source": [
        "## Creating APP and URL"
      ],
      "metadata": {
        "id": "XfkjpHbByEBL"
      }
    },
    {
      "cell_type": "code",
      "source": [
        "# Creating Flask app\n",
        "app = Flask(__name__)\n",
        "run_with_ngrok(app)"
      ],
      "metadata": {
        "id": "vtTnSob1jZgz"
      },
      "execution_count": null,
      "outputs": []
    },
    {
      "cell_type": "code",
      "source": [
        "# Link to Teams URL. Paste it on the final.\n",
        "teams_webhook_url = \"https://outlook.office.com/webhook/YOUR-WEBHOOK-URL-HERE\""
      ],
      "metadata": {
        "id": "GA6TagpQ30Dy"
      },
      "execution_count": null,
      "outputs": []
    },
    {
      "cell_type": "markdown",
      "source": [
        "## Creating Real-Time Image"
      ],
      "metadata": {
        "id": "N0hoJ0Z7EDRH"
      }
    },
    {
      "cell_type": "code",
      "source": [
        "# Create public URL for image\n",
        "@app.before_first_request\n",
        "def init_ngrok_url():\n",
        "    global public_url\n",
        "    public_url = ngrok.get_tunnels()[0].public_url"
      ],
      "metadata": {
        "id": "fqBCoAk-Dsp1"
      },
      "execution_count": null,
      "outputs": []
    },
    {
      "cell_type": "code",
      "source": [
        "# Function to plot image\n",
        "def save_failed_transactions_plot(df, filename=\"alert_plot.png\"):\n",
        "    plt.figure(figsize=(15, 6))\n",
        "    sns.lineplot(data=df, x='time', y='failed', label='Failed')\n",
        "    sns.scatterplot(data=df[df['final_alert']], x='time', y='failed', color='red', label='Alerts')\n",
        "    plt.title(\"Failed Transactions\")\n",
        "    plt.xticks(rotation=45)\n",
        "    plt.tight_layout()\n",
        "    plt.savefig(filename)\n",
        "    plt.close()"
      ],
      "metadata": {
        "id": "m_thu_YLDmIL"
      },
      "execution_count": null,
      "outputs": []
    },
    {
      "cell_type": "code",
      "source": [
        "# Route to serve this file publicly\n",
        "@app.route(\"/plot.png\")\n",
        "def serve_plot():\n",
        "    return send_file(\"alert_plot.png\", mimetype=\"image/png\")"
      ],
      "metadata": {
        "id": "t2359jwwDpPv"
      },
      "execution_count": null,
      "outputs": []
    },
    {
      "cell_type": "markdown",
      "source": [
        "## Creating Message"
      ],
      "metadata": {
        "id": "Z_RjFk6r7XkD"
      }
    },
    {
      "cell_type": "code",
      "source": [
        "# Function to create Teams Message\n",
        "def send_teams_notification(time, failed, denied, reversed_val, rule_alert, model_alert, image_url):\n",
        "  headers = {\n",
        "      'Content-Type': 'application/json'\n",
        "  }\n",
        "\n",
        "  # Message with the values\n",
        "  message = f\"\"\"\n",
        "              **🚨 Transaction Alert Detected!**\n",
        "\n",
        "              > **🕒 Time:** `{time}`\n",
        "              > **❌ Failed:** `{failed}`\n",
        "              > **🚫 Denied:** `{denied}`\n",
        "              > **🔁 Reversed:** `{reversed_val}`\n",
        "\n",
        "              **Alert Types:**\n",
        "              - 🧠 **ML Alert:** `{model_alert}`\n",
        "              - 📜 **Rule Alert:** `{rule_alert}`\n",
        "\n",
        "              📊 **Plot:**\n",
        "              ![Failed Transactions Plot]({image_url})\n",
        "\n",
        "              ---\n",
        "\n",
        "              📩 _This message was automatically generated by our monitoring system._\n",
        "            \"\"\"\n",
        "\n",
        "  payload = {\n",
        "      \"text\": message\n",
        "  }\n",
        "\n",
        "  response = requests.post(teams_webhook_url, headers=headers, json=payload)\n",
        "  return response.status_code"
      ],
      "metadata": {
        "id": "ZaUhkMI42_PR"
      },
      "execution_count": null,
      "outputs": []
    },
    {
      "cell_type": "markdown",
      "source": [
        "## Creating Endpoint"
      ],
      "metadata": {
        "id": "1bDULcTv7a2Z"
      }
    },
    {
      "cell_type": "code",
      "source": [
        "# Route to send Teams Message\n",
        "@app.route(\"/check_alert\", methods=[\"POST\"])\n",
        "def check_alert():\n",
        "  # Procesing and Transforming data\n",
        "  data = request.get_json()\n",
        "  df = pd.DataFrame(data)\n",
        "\n",
        "  aggregate_date(df)\n",
        "  create_flags(df)\n",
        "  create_isolation_forest(df)\n",
        "  final_alert(df)\n",
        "  save_failed_transactions_plot(df)\n",
        "\n",
        "  # Generate public image URL\n",
        "  image_url = f\"{public_url}/plot.png\"\n",
        "\n",
        "  # Send Teams Message if there is(are) alert(s)\n",
        "  alerts = df[df[\"final_alert\"]]\n",
        "\n",
        "  if not alerts.empty:\n",
        "    for _, row in alerts.iterrows():\n",
        "      send_teams_notification(\n",
        "        time=row['time'],\n",
        "        failed=row['failed'],\n",
        "        denied=row['denied'],\n",
        "        reversed_val=row['reversed'],\n",
        "        rule_alert=row['rule_alert'],\n",
        "        model_alert=row['model_alert'],\n",
        "        image_url=image_url\n",
        "      )\n",
        "\n",
        "    return jsonify({\"status\": \"Alerts sent to Teams!\"}), 200\n",
        "  else:\n",
        "    return jsonify({\"status\": \"No alerts found.\"}), 200"
      ],
      "metadata": {
        "id": "NjjjW6EV3EYx"
      },
      "execution_count": null,
      "outputs": []
    },
    {
      "cell_type": "markdown",
      "source": [
        "## Running"
      ],
      "metadata": {
        "id": "Q0CaQfRS7oqI"
      }
    },
    {
      "cell_type": "code",
      "source": [
        "# Run the app\n",
        "app.run()"
      ],
      "metadata": {
        "id": "uIOzorDT3q0O"
      },
      "execution_count": null,
      "outputs": []
    }
  ]
}